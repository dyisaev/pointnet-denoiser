{
 "cells": [
  {
   "cell_type": "code",
   "execution_count": 1,
   "id": "3f790eac",
   "metadata": {},
   "outputs": [],
   "source": [
    "import numpy as np\n",
    "x = np.random.rand(100, 3)\n"
   ]
  },
  {
   "cell_type": "code",
   "execution_count": null,
   "id": "c12da1ea",
   "metadata": {},
   "outputs": [],
   "source": [
    "import pptk\n",
    "v = pptk.viewer(x)\n",
    "v.set(point_size=0.01)"
   ]
  }
 ],
 "metadata": {
  "kernelspec": {
   "display_name": "sandbox-env",
   "language": "python",
   "name": "pyenv_sandbox-env"
  },
  "language_info": {
   "codemirror_mode": {
    "name": "ipython",
    "version": 3
   },
   "file_extension": ".py",
   "mimetype": "text/x-python",
   "name": "python",
   "nbconvert_exporter": "python",
   "pygments_lexer": "ipython3",
   "version": "3.9.16"
  }
 },
 "nbformat": 4,
 "nbformat_minor": 5
}
